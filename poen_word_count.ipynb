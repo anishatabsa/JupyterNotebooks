{
 "cells": [
  {
   "cell_type": "code",
   "execution_count": 297,
   "metadata": {
    "collapsed": true
   },
   "outputs": [],
   "source": [
    "from typing import List\n",
    "\n",
    "class PoemHash:\n",
    "    def __init__(self):\n",
    "        self.word_count = {}\n",
    "        self.poem_content: List[str] = self.read_poem()\n",
    "        self.unique_words, self.all_words = self.get_poem_words()\n",
    "\n",
    "    @staticmethod\n",
    "    def read_poem() -> List[str]:\n",
    "        with open('poem.txt', 'r') as poem:\n",
    "            poem_content = [line.strip(',') for line in poem.read().splitlines()]\n",
    "        return poem_content\n",
    "\n",
    "    def get_poem_words(self):\n",
    "        words = []\n",
    "        for line in self.poem_content:\n",
    "            line_split = line.split(' ')\n",
    "            words.extend(line_split)\n",
    "        all_words = words\n",
    "        print(len(all_words))\n",
    "        words = list(set(words))\n",
    "        print(len(words))\n",
    "        return words, all_words\n",
    "\n",
    "    def get_word_count(self):\n",
    "        for word in self.unique_words:\n",
    "            word_count = 0\n",
    "            for w in self.all_words:\n",
    "                if word == w:\n",
    "                    word_count += 1\n",
    "            self.word_count.update({word: word_count})"
   ]
  },
  {
   "cell_type": "code",
   "execution_count": 298,
   "outputs": [
    {
     "name": "stdout",
     "output_type": "stream",
     "text": [
      "147\n",
      "101\n",
      "{'': 3, 'one': 3, 'To': 1, 'Yet': 1, 'made': 1, 'fair': 1, 'equally': 1, 'really': 1, 'way': 2, 'I—': 1, 'in': 3, 'wear;': 1, 'by': 1, 'wanted': 1, 'less': 1, 'just': 1, 'was': 1, 'ever': 1, 'doubted': 1, 'the': 8, 'that': 3, 'Oh,': 1, 'long': 1, 'Had': 1, 'kept': 1, 'step': 1, 'be': 2, 'traveler,': 1, 'took': 2, 'all': 1, 'no': 1, 'leaves': 1, 'not': 1, 'I': 8, 'down': 1, 'Two': 2, 'better': 1, 'had': 1, 'wood,': 1, 'traveled': 1, 'them': 1, 'where': 1, 'undergrowth;': 1, 'sorry': 1, 'Then': 1, 'And': 6, 'knowing': 1, 'trodden': 1, 'far': 1, 'for': 2, 'In': 1, 'how': 1, 'as': 5, 'another': 1, 'Somewhere': 1, 'passing': 1, 'other,': 1, 'morning': 1, 'sigh': 1, 'about': 1, 'grassy': 1, 'a': 3, 'having': 1, 'looked': 1, 'difference.': 1, 'lay': 1, 'could': 2, 'back.': 1, 'Though': 1, 'it': 2, 'come': 1, 'claim': 1, 'diverged': 2, 'wood': 1, 'day!': 1, 'Because': 1, 'worn': 1, 'black.': 1, 'yellow': 1, 'roads': 2, 'hence:': 1, 'shall': 1, 'if': 1, 'first': 1, 'both': 2, 'should': 1, 'same': 1, 'has': 1, 'ages': 2, 'leads': 1, 'and': 3, 'on': 1, 'with': 1, 'this': 1, 'stood': 1, 'perhaps': 1, 'telling': 1, 'there': 1, 'bent': 1, 'to': 1, 'travel': 1}\n"
     ]
    }
   ],
   "source": [
    "ph = PoemHash()\n",
    "ph.get_word_count()\n",
    "print(ph.word_count)"
   ],
   "metadata": {
    "collapsed": false,
    "pycharm": {
     "name": "#%%\n"
    }
   }
  },
  {
   "cell_type": "code",
   "execution_count": 299,
   "outputs": [
    {
     "ename": "AttributeError",
     "evalue": "'str' object has no attribute 'removesuffix'",
     "output_type": "error",
     "traceback": [
      "\u001B[0;31m---------------------------------------------------------------------------\u001B[0m",
      "\u001B[0;31mAttributeError\u001B[0m                            Traceback (most recent call last)",
      "\u001B[0;32m/var/folders/8s/7zs3wy0j3f16qxhjl87zqk4c0000gp/T/ipykernel_15051/297923347.py\u001B[0m in \u001B[0;36m<module>\u001B[0;34m\u001B[0m\n\u001B[1;32m      1\u001B[0m \u001B[0mstring\u001B[0m \u001B[0;34m=\u001B[0m \u001B[0;34m\"Mr. ABC\"\u001B[0m\u001B[0;34m\u001B[0m\u001B[0;34m\u001B[0m\u001B[0m\n\u001B[0;32m----> 2\u001B[0;31m \u001B[0mstring\u001B[0m\u001B[0;34m.\u001B[0m\u001B[0mremovesuffix\u001B[0m\u001B[0;34m(\u001B[0m\u001B[0;34m'Mr.'\u001B[0m\u001B[0;34m)\u001B[0m\u001B[0;34m\u001B[0m\u001B[0;34m\u001B[0m\u001B[0m\n\u001B[0m\u001B[1;32m      3\u001B[0m \u001B[0mprint\u001B[0m\u001B[0;34m(\u001B[0m\u001B[0mstring\u001B[0m\u001B[0;34m)\u001B[0m\u001B[0;34m\u001B[0m\u001B[0;34m\u001B[0m\u001B[0m\n",
      "\u001B[0;31mAttributeError\u001B[0m: 'str' object has no attribute 'removesuffix'"
     ]
    }
   ],
   "source": [],
   "metadata": {
    "collapsed": false,
    "pycharm": {
     "name": "#%%\n"
    }
   }
  }
 ],
 "metadata": {
  "kernelspec": {
   "display_name": "Python 3",
   "language": "python",
   "name": "python3"
  },
  "language_info": {
   "codemirror_mode": {
    "name": "ipython",
    "version": 2
   },
   "file_extension": ".py",
   "mimetype": "text/x-python",
   "name": "python",
   "nbconvert_exporter": "python",
   "pygments_lexer": "ipython2",
   "version": "2.7.6"
  }
 },
 "nbformat": 4,
 "nbformat_minor": 0
}