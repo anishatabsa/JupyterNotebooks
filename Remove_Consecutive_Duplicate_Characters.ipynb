{
 "cells": [
  {
   "cell_type": "code",
   "execution_count": 60,
   "metadata": {
    "collapsed": true
   },
   "outputs": [],
   "source": [
    "check_string = \"appalae\""
   ]
  },
  {
   "cell_type": "code",
   "execution_count": 62,
   "outputs": [],
   "source": [
    "def get_consecutive_character_positions(string: str):\n",
    "    length = len(string)\n",
    "    print(f'string_len = {length}')\n",
    "    string_list = [char for char in string]\n",
    "    print(f'string_list = {string_list}')\n",
    "    duplicate_count = 0\n",
    "\n",
    "    for index, char in enumerate(string_list):\n",
    "        print(f'index = {index}')\n",
    "        print(f'string_list = {string_list}')\n",
    "        if index + 1 == length:\n",
    "            break\n",
    "        print(f'char = {char}')\n",
    "        print(f'next_char = {string_list[index + 1]}')\n",
    "\n",
    "        if char == string_list[index + 1]:\n",
    "            print(f'inserted = {index, index + 1}')\n",
    "            string_list.pop(index)\n",
    "            string_list.pop(index)\n",
    "            duplicate_count += 1\n",
    "            # break\n",
    "\n",
    "    new_string = ''.join([char for char in string_list])\n",
    "    print(f'duplicates = {duplicate_count}')\n",
    "    print(f'new_string_get = {new_string}')\n",
    "    return new_string, duplicate_count\n",
    "\n",
    "def recursively_check(string: str):\n",
    "    final_string = ''\n",
    "    new_string, duplicates = get_consecutive_character_positions(string)\n",
    "    while duplicates > 0:\n",
    "        print(f'new_string_recur = {new_string}')\n",
    "        new_string, duplicates = get_consecutive_character_positions(new_string)\n",
    "        if duplicates == 0:\n",
    "            final_string = new_string\n",
    "    print(f'final_string = {final_string}')\n",
    "    return final_string"
   ],
   "metadata": {
    "collapsed": false,
    "pycharm": {
     "name": "#%%\n"
    }
   }
  },
  {
   "cell_type": "code",
   "execution_count": 63,
   "outputs": [
    {
     "name": "stdout",
     "output_type": "stream",
     "text": [
      "string_len = 7\n",
      "string_list = ['a', 'p', 'p', 'a', 'l', 'a', 'e']\n",
      "index = 0\n",
      "string_list = ['a', 'p', 'p', 'a', 'l', 'a', 'e']\n",
      "char = a\n",
      "next_char = p\n",
      "index = 1\n",
      "string_list = ['a', 'p', 'p', 'a', 'l', 'a', 'e']\n",
      "char = p\n",
      "next_char = p\n",
      "inserted = (1, 2)\n",
      "index = 2\n",
      "string_list = ['a', 'a', 'l', 'a', 'e']\n",
      "char = l\n",
      "next_char = a\n",
      "index = 3\n",
      "string_list = ['a', 'a', 'l', 'a', 'e']\n",
      "char = a\n",
      "next_char = e\n",
      "index = 4\n",
      "string_list = ['a', 'a', 'l', 'a', 'e']\n",
      "char = e\n"
     ]
    },
    {
     "ename": "IndexError",
     "evalue": "list index out of range",
     "output_type": "error",
     "traceback": [
      "\u001B[0;31m---------------------------------------------------------------------------\u001B[0m",
      "\u001B[0;31mIndexError\u001B[0m                                Traceback (most recent call last)",
      "\u001B[0;32m/var/folders/8s/7zs3wy0j3f16qxhjl87zqk4c0000gp/T/ipykernel_4724/329305430.py\u001B[0m in \u001B[0;36m<module>\u001B[0;34m\u001B[0m\n\u001B[0;32m----> 1\u001B[0;31m \u001B[0mfinal_strings\u001B[0m \u001B[0;34m=\u001B[0m \u001B[0mrecursively_check\u001B[0m\u001B[0;34m(\u001B[0m\u001B[0mcheck_string\u001B[0m\u001B[0;34m)\u001B[0m\u001B[0;34m\u001B[0m\u001B[0;34m\u001B[0m\u001B[0m\n\u001B[0m\u001B[1;32m      2\u001B[0m \u001B[0mprint\u001B[0m\u001B[0;34m(\u001B[0m\u001B[0;34mf'Final new string: {final_strings}'\u001B[0m\u001B[0;34m)\u001B[0m\u001B[0;34m\u001B[0m\u001B[0;34m\u001B[0m\u001B[0m\n",
      "\u001B[0;32m/var/folders/8s/7zs3wy0j3f16qxhjl87zqk4c0000gp/T/ipykernel_4724/1621672249.py\u001B[0m in \u001B[0;36mrecursively_check\u001B[0;34m(string)\u001B[0m\n\u001B[1;32m     28\u001B[0m \u001B[0;32mdef\u001B[0m \u001B[0mrecursively_check\u001B[0m\u001B[0;34m(\u001B[0m\u001B[0mstring\u001B[0m\u001B[0;34m:\u001B[0m \u001B[0mstr\u001B[0m\u001B[0;34m)\u001B[0m\u001B[0;34m:\u001B[0m\u001B[0;34m\u001B[0m\u001B[0;34m\u001B[0m\u001B[0m\n\u001B[1;32m     29\u001B[0m     \u001B[0mfinal_string\u001B[0m \u001B[0;34m=\u001B[0m \u001B[0;34m''\u001B[0m\u001B[0;34m\u001B[0m\u001B[0;34m\u001B[0m\u001B[0m\n\u001B[0;32m---> 30\u001B[0;31m     \u001B[0mnew_string\u001B[0m\u001B[0;34m,\u001B[0m \u001B[0mduplicates\u001B[0m \u001B[0;34m=\u001B[0m \u001B[0mget_consecutive_character_positions\u001B[0m\u001B[0;34m(\u001B[0m\u001B[0mstring\u001B[0m\u001B[0;34m)\u001B[0m\u001B[0;34m\u001B[0m\u001B[0;34m\u001B[0m\u001B[0m\n\u001B[0m\u001B[1;32m     31\u001B[0m     \u001B[0;32mwhile\u001B[0m \u001B[0mduplicates\u001B[0m \u001B[0;34m>\u001B[0m \u001B[0;36m0\u001B[0m\u001B[0;34m:\u001B[0m\u001B[0;34m\u001B[0m\u001B[0;34m\u001B[0m\u001B[0m\n\u001B[1;32m     32\u001B[0m         \u001B[0mprint\u001B[0m\u001B[0;34m(\u001B[0m\u001B[0;34mf'new_string_recur = {new_string}'\u001B[0m\u001B[0;34m)\u001B[0m\u001B[0;34m\u001B[0m\u001B[0;34m\u001B[0m\u001B[0m\n",
      "\u001B[0;32m/var/folders/8s/7zs3wy0j3f16qxhjl87zqk4c0000gp/T/ipykernel_4724/1621672249.py\u001B[0m in \u001B[0;36mget_consecutive_character_positions\u001B[0;34m(string)\u001B[0m\n\u001B[1;32m     12\u001B[0m             \u001B[0;32mbreak\u001B[0m\u001B[0;34m\u001B[0m\u001B[0;34m\u001B[0m\u001B[0m\n\u001B[1;32m     13\u001B[0m         \u001B[0mprint\u001B[0m\u001B[0;34m(\u001B[0m\u001B[0;34mf'char = {char}'\u001B[0m\u001B[0;34m)\u001B[0m\u001B[0;34m\u001B[0m\u001B[0;34m\u001B[0m\u001B[0m\n\u001B[0;32m---> 14\u001B[0;31m         \u001B[0mprint\u001B[0m\u001B[0;34m(\u001B[0m\u001B[0;34mf'next_char = {string_list[index + 1]}'\u001B[0m\u001B[0;34m)\u001B[0m\u001B[0;34m\u001B[0m\u001B[0;34m\u001B[0m\u001B[0m\n\u001B[0m\u001B[1;32m     15\u001B[0m \u001B[0;34m\u001B[0m\u001B[0m\n\u001B[1;32m     16\u001B[0m         \u001B[0;32mif\u001B[0m \u001B[0mchar\u001B[0m \u001B[0;34m==\u001B[0m \u001B[0mstring_list\u001B[0m\u001B[0;34m[\u001B[0m\u001B[0mindex\u001B[0m \u001B[0;34m+\u001B[0m \u001B[0;36m1\u001B[0m\u001B[0;34m]\u001B[0m\u001B[0;34m:\u001B[0m\u001B[0;34m\u001B[0m\u001B[0;34m\u001B[0m\u001B[0m\n",
      "\u001B[0;31mIndexError\u001B[0m: list index out of range"
     ]
    }
   ],
   "source": [
    "final_strings = recursively_check(check_string)\n",
    "print(f'Final new string: {final_strings}')"
   ],
   "metadata": {
    "collapsed": false,
    "pycharm": {
     "name": "#%%\n"
    }
   }
  },
  {
   "cell_type": "code",
   "execution_count": 65,
   "outputs": [
    {
     "name": "stdout",
     "output_type": "stream",
     "text": [
      "2022-06-28 13:11:45.366659\n"
     ]
    }
   ],
   "source": [
    "from datetime import datetime\n",
    "print(datetime.now())\n",
    "\n",
    "diff = datetime.date()"
   ],
   "metadata": {
    "collapsed": false,
    "pycharm": {
     "name": "#%%\n"
    }
   }
  }
 ],
 "metadata": {
  "kernelspec": {
   "display_name": "Python 3",
   "language": "python",
   "name": "python3"
  },
  "language_info": {
   "codemirror_mode": {
    "name": "ipython",
    "version": 2
   },
   "file_extension": ".py",
   "mimetype": "text/x-python",
   "name": "python",
   "nbconvert_exporter": "python",
   "pygments_lexer": "ipython2",
   "version": "2.7.6"
  }
 },
 "nbformat": 4,
 "nbformat_minor": 0
}