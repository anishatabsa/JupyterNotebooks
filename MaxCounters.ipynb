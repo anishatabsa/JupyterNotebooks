{
 "cells": [
  {
   "cell_type": "code",
   "execution_count": 39,
   "metadata": {
    "collapsed": true
   },
   "outputs": [
    {
     "name": "stdout",
     "output_type": "stream",
     "text": [
      "[4, 4]\n"
     ]
    }
   ],
   "source": [
    "\"\"\"\n",
    "Calculate the values of counters after applying all alternating\n",
    "operations: increase counter by 1; set value of all counters to\n",
    "current maximum.\n",
    "\n",
    "You are given N counters, initially set to 0, and you have two\n",
    "possible operations on them:\n",
    "\n",
    "increase(X) − counter X is increased by 1,\n",
    "max counter − all counters are set to the maximum value of any\n",
    "counter.\n",
    "A non-empty array A of M integers is given. This array represents\n",
    "consecutive operations:\n",
    "\n",
    "if A[K] = X, such that 1 ≤ X ≤ N, then operation K is increase(X),\n",
    "if A[K] = N + 1 then operation K is max counter.\n",
    "For example, given integer N = 5 and array A such that:\n",
    "\n",
    "    A[0] = 3\n",
    "    A[1] = 4\n",
    "    A[2] = 4\n",
    "    A[3] = 6\n",
    "    A[4] = 1\n",
    "    A[5] = 4\n",
    "    A[6] = 4\n",
    "the values of the counters after each consecutive operation will be:\n",
    "\n",
    "    (0, 0, 1, 0, 0)\n",
    "    (0, 0, 1, 1, 0)\n",
    "    (0, 0, 1, 2, 0)\n",
    "    (2, 2, 2, 2, 2)\n",
    "    (3, 2, 2, 2, 2)\n",
    "    (3, 2, 2, 3, 2)\n",
    "    (3, 2, 2, 4, 2)\n",
    "The goal is to calculate the value of every counter after all\n",
    "operations.\n",
    "\n",
    "Write a function:\n",
    "\n",
    "def solution(N, A)\n",
    "\n",
    "that, given an integer N and a non-empty array A consisting of\n",
    "M integers, returns a sequence of integers representing the\n",
    "values of the counters.\n",
    "\n",
    "Result array should be returned as an array of integers.\n",
    "\n",
    "For example, given:\n",
    "\n",
    "    A[0] = 3\n",
    "    A[1] = 4\n",
    "    A[2] = 4\n",
    "    A[3] = 6\n",
    "    A[4] = 1\n",
    "    A[5] = 4\n",
    "    A[6] = 4\n",
    "the function should return [3, 2, 2, 4, 2], as explained above.\n",
    "\n",
    "Write an efficient algorithm for the following assumptions:\n",
    "\n",
    "N and M are integers within the range [1..100,000];\n",
    "each element of array A is an integer within the range [1..N + 1].\n",
    "\"\"\"\n",
    "A = [3,4,4,6,1,4,4]\n",
    "N = 5\n",
    "print(A[-2:])"
   ]
  },
  {
   "cell_type": "code",
   "execution_count": 35,
   "outputs": [],
   "source": [
    "def max_counter(N, A):\n",
    "    counter = [0*i for i in range(0, N)]\n",
    "    print(f'Counter: {counter}')\n",
    "    print(f'Counter: {type(counter)}')\n",
    "    max_count = 0\n",
    "    prev = 0\n",
    "\n",
    "    for num in A:\n",
    "        if num < N + 1:\n",
    "            print(f'Num: {num}')\n",
    "            pos = num - 1\n",
    "            counter[pos] = prev if counter[pos] < prev else counter[pos]\n",
    "            counter[pos] += 1\n",
    "            if counter[pos] > max_count:\n",
    "                max_count = counter[pos]\n",
    "                print(f'Max count: {max_count}')\n",
    "            # counter[pos] = counter[pos] + 1\n",
    "            print(f'Prev: {prev}')\n",
    "            print(f'Counter: {counter}')\n",
    "        else:\n",
    "            prev = max_count\n",
    "            print(f'Prev: {prev}')\n",
    "\n",
    "        for i in range(len(counter)):\n",
    "            if counter[i] < prev:\n",
    "                counter[i] = prev\n",
    "\n",
    "    return counter\n"
   ],
   "metadata": {
    "collapsed": false,
    "pycharm": {
     "name": "#%%\n"
    }
   }
  },
  {
   "cell_type": "code",
   "execution_count": 36,
   "outputs": [
    {
     "name": "stdout",
     "output_type": "stream",
     "text": [
      "Counter: [0, 0, 0, 0, 0]\n",
      "Counter: <class 'list'>\n",
      "Num: 3\n",
      "Max count: 1\n",
      "Prev: 0\n",
      "Counter: [0, 0, 1, 0, 0]\n",
      "Num: 4\n",
      "Prev: 0\n",
      "Counter: [0, 0, 1, 1, 0]\n",
      "Num: 4\n",
      "Max count: 2\n",
      "Prev: 0\n",
      "Counter: [0, 0, 1, 2, 0]\n",
      "Prev: 2\n",
      "Num: 1\n",
      "Max count: 3\n",
      "Prev: 2\n",
      "Counter: [3, 2, 2, 2, 2]\n",
      "Num: 4\n",
      "Prev: 2\n",
      "Counter: [3, 2, 2, 3, 2]\n",
      "Num: 4\n",
      "Max count: 4\n",
      "Prev: 2\n",
      "Counter: [3, 2, 2, 4, 2]\n",
      "[3, 2, 2, 4, 2]\n"
     ]
    }
   ],
   "source": [
    "print(max_counter(N, A))"
   ],
   "metadata": {
    "collapsed": false,
    "pycharm": {
     "name": "#%%\n"
    }
   }
  }
 ],
 "metadata": {
  "kernelspec": {
   "display_name": "Python 3",
   "language": "python",
   "name": "python3"
  },
  "language_info": {
   "codemirror_mode": {
    "name": "ipython",
    "version": 2
   },
   "file_extension": ".py",
   "mimetype": "text/x-python",
   "name": "python",
   "nbconvert_exporter": "python",
   "pygments_lexer": "ipython2",
   "version": "2.7.6"
  }
 },
 "nbformat": 4,
 "nbformat_minor": 0
}