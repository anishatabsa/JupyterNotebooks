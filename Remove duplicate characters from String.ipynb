{
 "cells": [
  {
   "cell_type": "code",
   "execution_count": 80,
   "id": "130b62c7",
   "metadata": {},
   "outputs": [
    {
     "name": "stdout",
     "output_type": "stream",
     "text": [
      "Maly Sankrit Hind Marthi English\n"
     ]
    }
   ],
   "source": [
    "input_string = 'Malayalam Sanskrit Hindi Marathi English'\n",
    "input_array = input_string.lower().split()\n",
    "\n",
    "unique = [''.join(sorted(set(word), key=word.index)) for word in input_array]\n",
    "print(' '.join(w.title() for w in unique))"
   ]
  }
 ],
 "metadata": {
  "kernelspec": {
   "display_name": "Python 3 (ipykernel)",
   "language": "python",
   "name": "python3"
  },
  "language_info": {
   "codemirror_mode": {
    "name": "ipython",
    "version": 3
   },
   "file_extension": ".py",
   "mimetype": "text/x-python",
   "name": "python",
   "nbconvert_exporter": "python",
   "pygments_lexer": "ipython3",
   "version": "3.8.12"
  }
 },
 "nbformat": 4,
 "nbformat_minor": 5
}
