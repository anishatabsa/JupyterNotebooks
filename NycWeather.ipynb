{
 "cells": [
  {
   "cell_type": "code",
   "execution_count": 52,
   "metadata": {
    "collapsed": true
   },
   "outputs": [],
   "source": [
    "class NycWeather:\n",
    "    def __init__(self):\n",
    "        self.weather = []\n",
    "        self.temps = {}\n",
    "        self.read_temp_csv()\n",
    "        print(self.weather)\n",
    "        print(self.temps)\n",
    "\n",
    "    def read_temp_csv(self):\n",
    "        with open('nyc_weather.csv', 'r') as csv:\n",
    "            weather = csv.read().splitlines()\n",
    "            del weather[0]\n",
    "            for item in weather:\n",
    "                items = item.split(',')\n",
    "                self.weather.append(int(items[1]))\n",
    "                self.temps.update({items[0]:int(items[1])})\n",
    "\n",
    "    def average_temp(self, days: int):\n",
    "        avg_temp = sum(self.weather[0: days])/days\n",
    "        return avg_temp\n",
    "\n",
    "    def max_temp(self, days: int):\n",
    "        max_temp = max(self.weather[0:days])\n",
    "        return max_temp\n",
    "\n",
    "    def get_temp(self, day: str):\n",
    "        try:\n",
    "            return self.temps[day]\n",
    "        except KeyError:\n",
    "            raise KeyError"
   ]
  },
  {
   "cell_type": "code",
   "execution_count": 53,
   "outputs": [
    {
     "name": "stdout",
     "output_type": "stream",
     "text": [
      "[27, 31, 23, 34, 37, 38, 29, 30, 35, 30]\n",
      "{'Jan 1': 27, 'Jan 2': 31, 'Jan 3': 23, 'Jan 4': 34, 'Jan 5': 37, 'Jan 6': 38, 'Jan 7': 29, 'Jan 8': 30, 'Jan 9': 35, 'Jan 10': 30}\n"
     ]
    }
   ],
   "source": [
    "nyc = NycWeather()"
   ],
   "metadata": {
    "collapsed": false,
    "pycharm": {
     "name": "#%%\n"
    }
   }
  },
  {
   "cell_type": "code",
   "execution_count": 54,
   "outputs": [
    {
     "name": "stdout",
     "output_type": "stream",
     "text": [
      "31.285714285714285\n",
      "38\n"
     ]
    }
   ],
   "source": [
    "print(nyc.average_temp(days=7))\n",
    "print(nyc.max_temp(days=10))"
   ],
   "metadata": {
    "collapsed": false,
    "pycharm": {
     "name": "#%%\n"
    }
   }
  },
  {
   "cell_type": "code",
   "execution_count": 57,
   "outputs": [
    {
     "name": "stdout",
     "output_type": "stream",
     "text": [
      "35\n",
      "34\n"
     ]
    }
   ],
   "source": [
    "print(nyc.get_temp('Jan 9'))\n",
    "print(nyc.get_temp('Jan 4'))"
   ],
   "metadata": {
    "collapsed": false,
    "pycharm": {
     "name": "#%%\n"
    }
   }
  }
 ],
 "metadata": {
  "kernelspec": {
   "display_name": "Python 3",
   "language": "python",
   "name": "python3"
  },
  "language_info": {
   "codemirror_mode": {
    "name": "ipython",
    "version": 2
   },
   "file_extension": ".py",
   "mimetype": "text/x-python",
   "name": "python",
   "nbconvert_exporter": "python",
   "pygments_lexer": "ipython2",
   "version": "2.7.6"
  }
 },
 "nbformat": 4,
 "nbformat_minor": 0
}