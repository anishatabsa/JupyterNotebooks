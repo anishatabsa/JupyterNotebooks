{
 "cells": [
  {
   "cell_type": "code",
   "execution_count": 48,
   "metadata": {
    "collapsed": true
   },
   "outputs": [],
   "source": [
    "S = 'aabcbefg'\n",
    "count_dict = {}\n"
   ]
  },
  {
   "cell_type": "code",
   "execution_count": 45,
   "outputs": [],
   "source": [
    "def is_palindrome(word) -> bool:\n",
    "    if word == word[::-1]:\n",
    "        return True\n"
   ],
   "metadata": {
    "collapsed": false,
    "pycharm": {
     "name": "#%%\n"
    }
   }
  },
  {
   "cell_type": "code",
   "execution_count": 46,
   "outputs": [],
   "source": [
    "def number_of_deletions(S):\n",
    "    print(f'S: {S}')\n",
    "    R = S[::-1]\n",
    "    print(f'R: {R}')\n",
    "    del_count = 0\n",
    "    for i in range(0, len(S)):\n",
    "        if not S[i] == R[i]:\n",
    "            del_count += 1\n",
    "\n",
    "    if del_count == len(S) - 1:\n",
    "        return -1\n",
    "\n",
    "    return del_count"
   ],
   "metadata": {
    "collapsed": false,
    "pycharm": {
     "name": "#%%\n"
    }
   }
  },
  {
   "cell_type": "code",
   "execution_count": 47,
   "outputs": [
    {
     "name": "stdout",
     "output_type": "stream",
     "text": [
      "S: aabcbefg\n",
      "R: gfebcbaa\n",
      "8\n"
     ]
    }
   ],
   "source": [
    "deletions = number_of_deletions(S)\n",
    "print(deletions)"
   ],
   "metadata": {
    "collapsed": false,
    "pycharm": {
     "name": "#%%\n"
    }
   }
  }
 ],
 "metadata": {
  "kernelspec": {
   "display_name": "Python 3",
   "language": "python",
   "name": "python3"
  },
  "language_info": {
   "codemirror_mode": {
    "name": "ipython",
    "version": 2
   },
   "file_extension": ".py",
   "mimetype": "text/x-python",
   "name": "python",
   "nbconvert_exporter": "python",
   "pygments_lexer": "ipython2",
   "version": "2.7.6"
  }
 },
 "nbformat": 4,
 "nbformat_minor": 0
}