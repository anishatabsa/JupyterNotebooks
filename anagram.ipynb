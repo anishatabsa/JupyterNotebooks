{
 "cells": [
  {
   "cell_type": "code",
   "execution_count": null,
   "metadata": {
    "collapsed": true,
    "pycharm": {
     "is_executing": true
    }
   },
   "outputs": [],
   "source": [
    "first_string = 'deepthy'\n",
    "second_string = 'ani'"
   ]
  },
  {
   "cell_type": "code",
   "execution_count": null,
   "outputs": [],
   "source": [
    "def check_anagram(first: str, second: str) -> bool:\n",
    "    if not len(first) == len(second):\n",
    "        return False\n",
    "    else:\n",
    "        if sorted(first) == sorted(second):\n",
    "            return True\n",
    "        else:\n",
    "            return False"
   ],
   "metadata": {
    "collapsed": false,
    "pycharm": {
     "name": "#%%\n",
     "is_executing": true
    }
   }
  },
  {
   "cell_type": "code",
   "execution_count": null,
   "outputs": [],
   "source": [
    "def sort_string(string: str):\n",
    "    string_list = [''.join(char) for char in string]\n",
    "    print(f'String List: {string_list}')\n",
    "    for index, char in enumerate(string_list):\n",
    "        print(f\"Checking char {char} in {string_list[index + 1:]}\")\n",
    "        for idx, c in enumerate(string_list[index + 1:]):\n",
    "            if char > c:\n",
    "                string_list[index] = c\n",
    "                string_list[idx] = char\n",
    "\n",
    "            print(f'String List now: {string_list}')\n",
    "\n",
    "    return string_list\n",
    "\n",
    "print(sort_string('deepthy'))\n"
   ],
   "metadata": {
    "collapsed": false,
    "pycharm": {
     "name": "#%%\n",
     "is_executing": true
    }
   }
  },
  {
   "cell_type": "code",
   "execution_count": null,
   "outputs": [],
   "source": [
    "anagram = check_anagram(first_string, second_string)\n",
    "\n",
    "if anagram:\n",
    "    print(f\"{second_string} is an anagram of {first_string}\")\n",
    "else:\n",
    "    print(f\"{second_string} is not an anagram of {first_string}\")"
   ],
   "metadata": {
    "collapsed": false,
    "pycharm": {
     "name": "#%%\n",
     "is_executing": true
    }
   }
  },
  {
   "cell_type": "code",
   "execution_count": null,
   "outputs": [],
   "source": [],
   "metadata": {
    "collapsed": false,
    "pycharm": {
     "name": "#%%\n",
     "is_executing": true
    }
   }
  }
 ],
 "metadata": {
  "kernelspec": {
   "display_name": "Python 3",
   "language": "python",
   "name": "python3"
  },
  "language_info": {
   "codemirror_mode": {
    "name": "ipython",
    "version": 2
   },
   "file_extension": ".py",
   "mimetype": "text/x-python",
   "name": "python",
   "nbconvert_exporter": "python",
   "pygments_lexer": "ipython2",
   "version": "2.7.6"
  }
 },
 "nbformat": 4,
 "nbformat_minor": 0
}