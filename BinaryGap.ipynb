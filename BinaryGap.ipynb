{
 "cells": [
  {
   "cell_type": "code",
   "execution_count": 1,
   "metadata": {},
   "outputs": [],
   "source": [
    "bin = [1,0,0,0,0,0,0,0,0,0,0,0,0,0,1]"
   ]
  },
  {
   "cell_type": "code",
   "execution_count": 2,
   "metadata": {},
   "outputs": [],
   "source": [
    "def get_indices(bin_array: list) -> list:\n",
    "    indices = []\n",
    "    for index, num in enumerate(bin_array):\n",
    "        if num == 1:\n",
    "            indices.append(index)\n",
    "    \n",
    "    return indices\n",
    "        "
   ]
  },
  {
   "cell_type": "code",
   "execution_count": 3,
   "metadata": {},
   "outputs": [],
   "source": [
    "def binary_gap(array: list):\n",
    "    indices = get_indices(array)\n",
    "    length = len(indices)\n",
    "    diffs = []\n",
    "    i = 0\n",
    "    \n",
    "    while i < length - 1:\n",
    "        compare = i + 1\n",
    "        diff = indices[compare] - indices[i]\n",
    "        diffs.append(diff - 1)\n",
    "        i += 1\n",
    "    \n",
    "    if diffs:\n",
    "        return sorted(diffs)[-1]\n",
    "    else:\n",
    "        return 0\n",
    "    "
   ]
  },
  {
   "cell_type": "code",
   "execution_count": 4,
   "metadata": {},
   "outputs": [
    {
     "name": "stdout",
     "output_type": "stream",
     "text": [
      "13\n"
     ]
    }
   ],
   "source": [
    "bin_gap = binary_gap(bin)\n",
    "print(bin_gap)"
   ]
  },
  {
   "cell_type": "code",
   "execution_count": 4,
   "metadata": {},
   "outputs": [],
   "source": []
  }
 ],
 "metadata": {
  "kernelspec": {
   "display_name": "Python 3 (ipykernel)",
   "language": "python",
   "name": "python3"
  },
  "language_info": {
   "codemirror_mode": {
    "name": "ipython",
    "version": 3
   },
   "file_extension": ".py",
   "mimetype": "text/x-python",
   "name": "python",
   "nbconvert_exporter": "python",
   "pygments_lexer": "ipython3",
   "version": "3.8.12"
  }
 },
 "nbformat": 4,
 "nbformat_minor": 1
}