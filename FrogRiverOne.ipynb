{
 "cells": [
  {
   "cell_type": "code",
   "execution_count": 16,
   "metadata": {
    "collapsed": true
   },
   "outputs": [],
   "source": [
    "\"\"\"\n",
    "Find the earliest time when a frog can jump to the other side of\n",
    "a river.\n",
    "\n",
    "A small frog wants to get to the other side of a river.\n",
    "The frog is initially located on one bank of the river\n",
    "(position 0) and wants to get to the opposite bank (position X+1).\n",
    "Leaves fall from a tree onto the surface of the river.\n",
    "\n",
    "You are given an array A consisting of N integers representing\n",
    "the falling leaves. A[K] represents the position where one leaf\n",
    "falls at time K, measured in seconds.\n",
    "\n",
    "The goal is to find the earliest time when the frog can jump to\n",
    "the other side of the river. The frog can cross only when leaves\n",
    "appear at every position across the river from 1 to X (that is,\n",
    "we want to find the earliest moment when all the positions\n",
    "from 1 to X are covered by leaves). You may assume that the speed\n",
    "of the current in the river is negligibly small, i.e. the leaves\n",
    "do not change their positions once they fall in the river.\n",
    "\n",
    "For example, you are given integer X = 5 and array A such that:\n",
    "\n",
    "  A[0] = 1\n",
    "  A[1] = 3\n",
    "  A[2] = 1\n",
    "  A[3] = 4\n",
    "  A[4] = 2\n",
    "  A[5] = 3\n",
    "  A[6] = 5\n",
    "  A[7] = 4\n",
    "In second 6, a leaf falls into position 5. This is the earliest\n",
    "time when leaves appear in every position across the river.\n",
    "\n",
    "Write a function:\n",
    "\n",
    "def solution(X, A)\n",
    "\n",
    "that, given a non-empty array A consisting of N integers and\n",
    "integer X, returns the earliest time when the frog can jump to\n",
    "the other side of the river.\n",
    "\n",
    "If the frog is never able to jump to the other side of the river,\n",
    "the function should return −1.\n",
    "\n",
    "For example, given X = 5 and array A such that:\n",
    "\n",
    "  A[0] = 1\n",
    "  A[1] = 3\n",
    "  A[2] = 1\n",
    "  A[3] = 4\n",
    "  A[4] = 2\n",
    "  A[5] = 3\n",
    "  A[6] = 5\n",
    "  A[7] = 4\n",
    "the function should return 6, as explained above.\n",
    "\"\"\"\n",
    "A = [1,3,1,4,2,3,5,4]\n",
    "X = 5"
   ]
  },
  {
   "cell_type": "code",
   "execution_count": 17,
   "outputs": [],
   "source": [
    "def earliest_time(X, A):\n",
    "    steps = [i for i in range(1, X+1)]\n",
    "    jumps = set()\n",
    "    for index, num in enumerate(A):\n",
    "        jumps.add(num)\n",
    "        if len(steps) == len(jumps):\n",
    "            return index\n",
    "\n",
    "    return -1"
   ],
   "metadata": {
    "collapsed": false,
    "pycharm": {
     "name": "#%%\n"
    }
   }
  },
  {
   "cell_type": "code",
   "execution_count": 18,
   "outputs": [
    {
     "name": "stdout",
     "output_type": "stream",
     "text": [
      "6\n"
     ]
    }
   ],
   "source": [
    "print(earliest_time(X, A))"
   ],
   "metadata": {
    "collapsed": false,
    "pycharm": {
     "name": "#%%\n"
    }
   }
  }
 ],
 "metadata": {
  "kernelspec": {
   "display_name": "Python 3",
   "language": "python",
   "name": "python3"
  },
  "language_info": {
   "codemirror_mode": {
    "name": "ipython",
    "version": 2
   },
   "file_extension": ".py",
   "mimetype": "text/x-python",
   "name": "python",
   "nbconvert_exporter": "python",
   "pygments_lexer": "ipython2",
   "version": "2.7.6"
  }
 },
 "nbformat": 4,
 "nbformat_minor": 0
}