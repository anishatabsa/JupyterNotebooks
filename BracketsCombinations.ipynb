{
 "cells": [
  {
   "cell_type": "code",
   "execution_count": 1,
   "metadata": {
    "collapsed": true
   },
   "outputs": [
    {
     "name": "stdout",
     "output_type": "stream",
     "text": [
      "5.0\n"
     ]
    }
   ],
   "source": [
    "\"\"\"\n",
    "Given a number, find the possible valid combinations of brackets possible.\n",
    "If the given number is 3, it means you have ()()() brackets. The task is to\n",
    "find how many more valid combinations of brackets can you make, In this case\n",
    "you can make ()()(), (()()),(())(), ((())),()(()). The function should\n",
    "return the number of possible valid combinations.\n",
    "\"\"\"\n",
    "\n",
    "from math import factorial\n",
    "\n",
    "num = 3\n",
    "k = num + 1\n",
    "n = 2 * num\n",
    "\n",
    "combinations = factorial(n) / (factorial(num) * factorial(k))\n",
    "print(combinations)"
   ]
  }
 ],
 "metadata": {
  "kernelspec": {
   "display_name": "Python 3",
   "language": "python",
   "name": "python3"
  },
  "language_info": {
   "codemirror_mode": {
    "name": "ipython",
    "version": 2
   },
   "file_extension": ".py",
   "mimetype": "text/x-python",
   "name": "python",
   "nbconvert_exporter": "python",
   "pygments_lexer": "ipython2",
   "version": "2.7.6"
  }
 },
 "nbformat": 4,
 "nbformat_minor": 0
}