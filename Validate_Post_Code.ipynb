{
 "cells": [
  {
   "cell_type": "code",
   "execution_count": null,
   "outputs": [],
   "source": [
    "\"\"\"\n",
    "A valid postal code  have to fullfil both below requirements:\n",
    "1) must be a number in the range from  to  inclusive.\n",
    "2) must not contain more than one alternating repetitive digit pair.\n",
    "\n",
    "Alternating repetitive digits are digits which repeat immediately\n",
    "after the next digit. In other words, an alternating repetitive digit\n",
    "pair is formed by two equal digits that have just a single digit between them\n",
    "\"\"\""
   ],
   "metadata": {
    "collapsed": false,
    "pycharm": {
     "name": "#%%\n"
    }
   }
  },
  {
   "cell_type": "code",
   "execution_count": null,
   "outputs": [],
   "source": [
    "from re import match, findall\n",
    "def validate_postal_code(code_no):\n",
    "    exp1 = r'^[0-9]{6,6}$'\n",
    "    exp2 = r'(\\d)(?=\\d\\1)'\n",
    "\n",
    "    return (bool(match(exp1, code_no))\n",
    "            and len(findall(exp2, code_no)) < 2)"
   ],
   "metadata": {
    "collapsed": false,
    "pycharm": {
     "name": "#%%\n"
    }
   }
  },
  {
   "cell_type": "code",
   "execution_count": null,
   "outputs": [],
   "source": [
    "postal_code = '552523'\n",
    "print(validate_postal_code(postal_code))"
   ],
   "metadata": {
    "collapsed": false,
    "pycharm": {
     "name": "#%%\n"
    }
   }
  },
  {
   "cell_type": "code",
   "execution_count": 18,
   "outputs": [
    {
     "name": "stdout",
     "output_type": "stream",
     "text": [
      "['s', 'a', 'h', 'n', 'i']\n"
     ]
    }
   ],
   "source": [
    "# search_string_list = [(0, 'ahffaksfaje', 11), (1, 'hffaksfaje', 10), (2, 'ffaksfaje', 9), (3, 'faksfaje', 8), (4, 'aksfajeeu', 9)]\n",
    "# sorted(search_string_list, key=lambda x: x[0])\n",
    "# print(search_string_list)\n",
    "\n",
    "sub = 'anisha'\n",
    "subset = set(sub)\n",
    "print(list(subset))"
   ],
   "metadata": {
    "collapsed": false,
    "pycharm": {
     "name": "#%%\n"
    }
   }
  }
 ],
 "metadata": {
  "kernelspec": {
   "display_name": "Python 3",
   "language": "python",
   "name": "python3"
  },
  "language_info": {
   "codemirror_mode": {
    "name": "ipython",
    "version": 2
   },
   "file_extension": ".py",
   "mimetype": "text/x-python",
   "name": "python",
   "nbconvert_exporter": "python",
   "pygments_lexer": "ipython2",
   "version": "2.7.6"
  }
 },
 "nbformat": 4,
 "nbformat_minor": 0
}