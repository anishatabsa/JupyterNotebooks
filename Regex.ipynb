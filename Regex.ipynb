{
 "cells": [
  {
   "cell_type": "code",
   "execution_count": null,
   "metadata": {
    "collapsed": true
   },
   "outputs": [],
   "source": [
    "\"\"\"\n",
    "Validate credit card number using Regex\n",
    "Validations:\n",
    "1) Must start with 4,5 or 6\n",
    "2) Must have 16 digits\n",
    "3) Must not contain characters\n",
    "4) Every group of 4 digits should be seperated by a '-'\n",
    "5) The separator should not be anything other than a '-'\n",
    "6) There should not be 4 or more consecutive occurrences of a number\n",
    "\"\"\"\n",
    "\n",
    "from re import match, search\n",
    "def validate_credit_card_no(credit_card_no: str) -> str:\n",
    "    exp1 = r'^[4|5|6](?:\\d{0,3}-?){1}(?:\\d{0,4}-?){3}$'\n",
    "    exp2 = r'([0-9])\\1{3,}'\n",
    "\n",
    "    cc = credit_card_no.replace('-', '')\n",
    "    if not len(cc) == 16:\n",
    "        return \"Invalid\"\n",
    "\n",
    "    if search(exp2, cc):\n",
    "        return \"Invalid\"\n",
    "\n",
    "    if not match(exp1, credit_card_no):\n",
    "        return \"Invalid\"\n",
    "    else:\n",
    "        return \"Valid\""
   ]
  },
  {
   "cell_type": "code",
   "execution_count": null,
   "outputs": [],
   "source": [
    "ccs = [\n",
    "    '4123456789123456',\n",
    "    '5123-4567-8912-3456',\n",
    "    '61234-567-8912-3456',\n",
    "    '4123356789123456',\n",
    "    '5133-3367-8912-3456',\n",
    "    '5123 - 3567 - 8912 - 3456'\n",
    "]\n",
    "\n",
    "for cc in ccs:\n",
    "    print(validate_credit_card_no(cc))\n"
   ],
   "metadata": {
    "collapsed": false,
    "pycharm": {
     "name": "#%%\n"
    }
   }
  }
 ],
 "metadata": {
  "kernelspec": {
   "display_name": "Python 3",
   "language": "python",
   "name": "python3"
  },
  "language_info": {
   "codemirror_mode": {
    "name": "ipython",
    "version": 2
   },
   "file_extension": ".py",
   "mimetype": "text/x-python",
   "name": "python",
   "nbconvert_exporter": "python",
   "pygments_lexer": "ipython2",
   "version": "2.7.6"
  }
 },
 "nbformat": 4,
 "nbformat_minor": 0
}