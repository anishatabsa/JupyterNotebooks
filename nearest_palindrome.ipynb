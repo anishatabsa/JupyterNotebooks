{
 "cells": [
  {
   "cell_type": "code",
   "execution_count": 1,
   "metadata": {},
   "outputs": [],
   "source": [
    "def nearest_palindrome(num: int, symbol: str) -> int:\n",
    "    while True:\n",
    "        if symbol == '>':\n",
    "            num += 1\n",
    "        else:\n",
    "            num -= 1\n",
    "\n",
    "        num_str = str(num)\n",
    "        num_str_rev = num_str[::-1]\n",
    "\n",
    "        if num_str == num_str_rev:\n",
    "            return int(num_str_rev)"
   ]
  },
  {
   "cell_type": "code",
   "execution_count": 2,
   "metadata": {
    "pycharm": {
     "name": "#%%\n"
    }
   },
   "outputs": [
    {
     "name": "stdout",
     "output_type": "stream",
     "text": [
      "1991\n",
      "2002\n",
      "Nearest palindrome is 1991\n"
     ]
    }
   ],
   "source": [
    "num = 1992\n",
    "lower_palindrome = nearest_palindrome(num, '<')\n",
    "print(lower_palindrome)\n",
    "\n",
    "higher_palindrome = nearest_palindrome(num, '>')\n",
    "print(higher_palindrome)\n",
    "\n",
    "if (higher_palindrome - num) >= (num - lower_palindrome):\n",
    "    print(f'Nearest palindrome is {lower_palindrome}')\n",
    "else:\n",
    "    print(f'Nearest palindrome is {higher_palindrome}')"
   ]
  },
  {
   "cell_type": "code",
   "execution_count": 17,
   "metadata": {
    "pycharm": {
     "name": "#%%\n"
    }
   },
   "outputs": [
    {
     "name": "stdout",
     "output_type": "stream",
     "text": [
      "Malayala\n"
     ]
    }
   ],
   "source": [
    "word = 'Malayalam'\n",
    "length = len(word)\n",
    "print(word[:-1])\n",
    "\n",
    "# print(word == word[len(word):0])"
   ]
  },
  {
   "cell_type": "code",
   "execution_count": null,
   "metadata": {
    "pycharm": {
     "name": "#%%\n"
    }
   },
   "outputs": [],
   "source": []
  }
 ],
 "metadata": {
  "kernelspec": {
   "display_name": "Python 3 (ipykernel)",
   "language": "python",
   "name": "python3"
  },
  "language_info": {
   "codemirror_mode": {
    "name": "ipython",
    "version": 3
   },
   "file_extension": ".py",
   "mimetype": "text/x-python",
   "name": "python",
   "nbconvert_exporter": "python",
   "pygments_lexer": "ipython3",
   "version": "3.8.12"
  }
 },
 "nbformat": 4,
 "nbformat_minor": 1
}