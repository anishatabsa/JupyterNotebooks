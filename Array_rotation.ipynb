{
 "cells": [
  {
   "cell_type": "code",
   "execution_count": 75,
   "id": "a4c0cd67",
   "metadata": {},
   "outputs": [],
   "source": [
    "array = [1, 1, 2, 3, 5]"
   ]
  },
  {
   "cell_type": "code",
   "execution_count": 76,
   "id": "d58d317e",
   "metadata": {},
   "outputs": [],
   "source": [
    "def rotate(array: list, by: int) -> list:\n",
    "    arr_length = len(array)\n",
    "    if arr_length == 0 or by == arr_length or array.count(array[0]) == arr_length:\n",
    "        return array\n",
    "\n",
    "    if by > arr_length:\n",
    "        div, mod = divmod(by, arr_length)\n",
    "        by = mod\n",
    "    \n",
    "    array[:] = array[-by:] + array[:-by]\n",
    "    return array\n",
    "        "
   ]
  },
  {
   "cell_type": "code",
   "execution_count": 77,
   "id": "d3f9ee1a",
   "metadata": {
    "pycharm": {
     "name": "#%%\n"
    }
   },
   "outputs": [
    {
     "name": "stdout",
     "output_type": "stream",
     "text": [
      "[2, 3, 5, 1, 1]\n"
     ]
    }
   ],
   "source": [
    "rot = rotate(array, 8)\n",
    "print(rot)"
   ]
  }
 ],
 "metadata": {
  "kernelspec": {
   "display_name": "Python 3 (ipykernel)",
   "language": "python",
   "name": "python3"
  },
  "language_info": {
   "codemirror_mode": {
    "name": "ipython",
    "version": 3
   },
   "file_extension": ".py",
   "mimetype": "text/x-python",
   "name": "python",
   "nbconvert_exporter": "python",
   "pygments_lexer": "ipython3",
   "version": "3.8.12"
  }
 },
 "nbformat": 4,
 "nbformat_minor": 5
}